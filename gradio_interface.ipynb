# ✅ Setup and Launch Gradio App
!git clone https://github.com/Erika-Dunn/IEP-RAG-IEP-Assistant.git
%cd IEP-RAG-IEP-Assistant/app
!pip install -q gradio faiss-cpu sentence-transformers pdfplumber beautifulsoup4 requests
!git pull --quiet
!python app_interface.py
