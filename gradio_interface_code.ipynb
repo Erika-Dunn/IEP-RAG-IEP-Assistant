{
 "cells": [
  {
   "cell_type": "markdown",
   "id": "3f1dccdf",
   "metadata": {},
   "source": [
    "# ✅ IEP Goal Generator: Verification\n",
    "This notebook verifies the Gradio app is working.\n",
    "\n",
    "Paste the following cell into Colab or run as-is to test."
   ]
  },
  {
   "cell_type": "code",
   "execution_count": null,
   "id": "bd15faa4",
   "metadata": {},
   "outputs": [],
   "source": [
    "!git clone https://github.com/Erika-Dunn/IEP-RAG-IEP-Assistant.git\n",
    "%cd IEP-RAG-IEP-Assistant/app\n",
    "!pip install -q gradio faiss-cpu sentence-transformers pdfplumber beautifulsoup4 requests\n",
    "!python app_interface.py"
   ]
  }
 ],
 "metadata": {},
 "nbformat": 4,
 "nbformat_minor": 5
}
