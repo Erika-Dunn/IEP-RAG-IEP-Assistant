{
  "nbformat": 4,
  "nbformat_minor": 0,
  "metadata": {
    "colab": {
      "provenance": [],
      "gpuType": "T4",
      "authorship_tag": "ABX9TyOHhXK89smhbrb9jGhAg1V7",
      "include_colab_link": true
    },
    "kernelspec": {
      "name": "python3",
      "display_name": "Python 3"
    },
    "language_info": {
      "name": "python"
    },
    "accelerator": "GPU"
  },
  "cells": [
    {
      "cell_type": "markdown",
      "metadata": {
        "id": "view-in-github",
        "colab_type": "text"
      },
      "source": [
        "<a href=\"https://colab.research.google.com/github/Erika-Dunn/IEP-RAG-IEP-Assistant/blob/main/gradio_interface_code.ipynb\" target=\"_parent\"><img src=\"https://colab.research.google.com/assets/colab-badge.svg\" alt=\"Open In Colab\"/></a>"
      ]
    },
    {
      "cell_type": "markdown",
      "source": [
        "# Colab Notebook for Calling Gradio\n"
      ],
      "metadata": {
        "id": "cGbrCtXV8mNE"
      }
    },
    {
      "cell_type": "code",
      "source": [
        "# --- Clone Your Repo and Enter App Folder ---\n",
        "!git clone https://github.com/Erika-Dunn/IEP-RAG-IEP-Assistant.git\n",
        "%cd IEP-RAG-IEP-Assistant/app"
      ],
      "metadata": {
        "id": "b68SCBAXDIcw"
      },
      "execution_count": null,
      "outputs": []
    },
    {
      "cell_type": "code",
      "source": [
        "# --- Install Dependencies ---\n",
        "!pip install -q gradio faiss-cpu sentence-transformers pdfplumber beautifulsoup4 requests transformers accelerate"
      ],
      "metadata": {
        "id": "YNsAj5UzDfHw"
      },
      "execution_count": 11,
      "outputs": []
    },
    {
      "cell_type": "code",
      "source": [
        "# --- Optional: Force GPU if available (for Colab Pro) ---\n",
        "import torch\n",
        "print(\"✅ GPU is available\" if torch.cuda.is_available() else \"⚠️ Using CPU\")\n"
      ],
      "metadata": {
        "id": "BALggc3tJSbc"
      },
      "execution_count": null,
      "outputs": []
    },
    {
      "cell_type": "code",
      "source": [
        "# --- Launch App Interface (Gradio UI + CLI) ---\n",
        "!git pull\n",
        "!python app_interface.py"
      ],
      "metadata": {
        "id": "udNFn2UqDdN-"
      },
      "execution_count": null,
      "outputs": []
    }
  ]
}